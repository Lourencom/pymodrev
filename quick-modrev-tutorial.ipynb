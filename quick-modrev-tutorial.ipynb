{
 "cells": [
  {
   "cell_type": "markdown",
   "id": "e1501c69-a4d5-45c7-9bbf-b0abf4f25a8f",
   "metadata": {},
   "source": [
    "## PyModrev Quick Tutorial"
   ]
  },
  {
   "cell_type": "markdown",
   "id": "9807c1b4-14fd-4240-b25c-0450a6d64cf3",
   "metadata": {},
   "source": [
    "This document aims at giving a brief tutorial for Pint usage through its Python Interface."
   ]
  },
  {
   "cell_type": "markdown",
   "id": "47d1f24d-b972-4eab-b813-647a4354620a",
   "metadata": {},
   "source": [
    "First, lets import the module:"
   ]
  },
  {
   "cell_type": "code",
   "execution_count": 73,
   "id": "f7a8c540-4299-48db-9613-123a5ef17f80",
   "metadata": {},
   "outputs": [],
   "source": [
    "import pymodrev"
   ]
  },
  {
   "cell_type": "markdown",
   "id": "6e010089-f274-4ffd-b62f-73c997f3b975",
   "metadata": {},
   "source": [
    "# Creating the Model"
   ]
  },
  {
   "cell_type": "code",
   "execution_count": 74,
   "id": "23193b13-9a49-4060-ab0d-1181ec73b941",
   "metadata": {},
   "outputs": [],
   "source": [
    "model = pymodrev.ModRevModel()"
   ]
  },
  {
   "cell_type": "markdown",
   "id": "f7366727-7a0a-4525-a595-dd718a77e7d4",
   "metadata": {},
   "source": [
    "### Loading a Model\n",
    "\n",
    "PyModrev loads models with the output format given by ModRev."
   ]
  },
  {
   "cell_type": "code",
   "execution_count": 78,
   "id": "5c8c351e-22c6-4b65-a75b-b9d13a1efd96",
   "metadata": {},
   "outputs": [
    {
     "ename": "KeyError",
     "evalue": "'A'",
     "output_type": "error",
     "traceback": [
      "\u001b[0;31m---------------------------------------------------------------------------\u001b[0m",
      "\u001b[0;31mKeyError\u001b[0m                                  Traceback (most recent call last)",
      "Cell \u001b[0;32mIn[78], line 1\u001b[0m\n\u001b[0;32m----> 1\u001b[0m \u001b[43mmodel\u001b[49m\u001b[38;5;241;43m.\u001b[39;49m\u001b[43mload_from_file\u001b[49m\u001b[43m(\u001b[49m\u001b[38;5;124;43m'\u001b[39;49m\u001b[38;5;124;43mexamples/model.lp\u001b[39;49m\u001b[38;5;124;43m'\u001b[39;49m\u001b[43m)\u001b[49m\n",
      "File \u001b[0;32m~/research/colomoto/pymodrev/pymodrev/__init__.py:141\u001b[0m, in \u001b[0;36mModRevModel.load_from_file\u001b[0;34m(self, filename)\u001b[0m\n\u001b[1;32m    139\u001b[0m \u001b[38;5;28;01mfor\u001b[39;00m match \u001b[38;5;129;01min\u001b[39;00m re\u001b[38;5;241m.\u001b[39mfinditer(\u001b[38;5;124mr\u001b[39m\u001b[38;5;124m'\u001b[39m\u001b[38;5;124mfunctionAnd\u001b[39m\u001b[38;5;124m\\\u001b[39m\u001b[38;5;124m((.+?),(.*?),(.*?)\u001b[39m\u001b[38;5;124m\\\u001b[39m\u001b[38;5;124m)\u001b[39m\u001b[38;5;124m'\u001b[39m, line):\n\u001b[1;32m    140\u001b[0m     node_id, term, regulator \u001b[38;5;241m=\u001b[39m match\u001b[38;5;241m.\u001b[39mgroups()\n\u001b[0;32m--> 141\u001b[0m     \u001b[38;5;28;43mself\u001b[39;49m\u001b[38;5;241;43m.\u001b[39;49m\u001b[43mupdate_boolean_function\u001b[49m\u001b[43m(\u001b[49m\u001b[43mnode_id\u001b[49m\u001b[43m,\u001b[49m\u001b[43m \u001b[49m\u001b[38;5;28;43mint\u001b[39;49m\u001b[43m(\u001b[49m\u001b[43mterm\u001b[49m\u001b[43m)\u001b[49m\u001b[43m,\u001b[49m\u001b[43m \u001b[49m\u001b[43mregulator\u001b[49m\u001b[43m)\u001b[49m\n",
      "File \u001b[0;32m~/research/colomoto/pymodrev/pymodrev/__init__.py:112\u001b[0m, in \u001b[0;36mModRevModel.update_boolean_function\u001b[0;34m(self, node_id, term, regulator)\u001b[0m\n\u001b[1;32m    109\u001b[0m \u001b[38;5;28;01mif\u001b[39;00m (node_id \u001b[38;5;129;01mor\u001b[39;00m regulator) \u001b[38;5;129;01mnot\u001b[39;00m \u001b[38;5;129;01min\u001b[39;00m \u001b[38;5;28mself\u001b[39m\u001b[38;5;241m.\u001b[39mnodes:\n\u001b[1;32m    110\u001b[0m     \u001b[38;5;28;01mraise\u001b[39;00m \u001b[38;5;167;01mValueError\u001b[39;00m(\u001b[38;5;124mf\u001b[39m\u001b[38;5;124m\"\u001b[39m\u001b[38;5;124mInvalid node id or regulator when processing functionAnd\u001b[39m\u001b[38;5;132;01m{\u001b[39;00mnode_id,\u001b[38;5;250m \u001b[39mterm,\u001b[38;5;250m \u001b[39mregulator\u001b[38;5;132;01m}\u001b[39;00m\u001b[38;5;124m\"\u001b[39m)\n\u001b[0;32m--> 112\u001b[0m \u001b[38;5;28;43mself\u001b[39;49m\u001b[38;5;241;43m.\u001b[39;49m\u001b[43mfunctions\u001b[49m\u001b[43m[\u001b[49m\u001b[43mnode_id\u001b[49m\u001b[43m]\u001b[49m\u001b[38;5;241m.\u001b[39madd_term_regulator(term, regulator)\n",
      "\u001b[0;31mKeyError\u001b[0m: 'A'"
     ]
    }
   ],
   "source": [
    "model.load_from_file('examples/model.lp')"
   ]
  },
  {
   "cell_type": "markdown",
   "id": "440ff7bb-0d17-4ac9-b118-ed026c93c4c6",
   "metadata": {},
   "source": [
    "## Check network/model state"
   ]
  },
  {
   "cell_type": "code",
   "execution_count": 48,
   "id": "2d173b27-68ea-4b7f-bf52-b1fc1dbc092a",
   "metadata": {},
   "outputs": [
    {
     "data": {
      "text/plain": [
       "Nodes:\n",
       "Node(A)\n",
       "Node(B)\n",
       "Node(C)\n",
       "Node(D)\n",
       "Node(E)\n",
       "Edges:\n",
       "\n",
       "Functions:"
      ]
     },
     "execution_count": 48,
     "metadata": {},
     "output_type": "execute_result"
    }
   ],
   "source": [
    "model"
   ]
  },
  {
   "cell_type": "code",
   "execution_count": 49,
   "id": "f48b7983-e8c6-4ee2-b793-de624f0641aa",
   "metadata": {},
   "outputs": [
    {
     "name": "stdout",
     "output_type": "stream",
     "text": [
      "total 44\n",
      "drwxr-xr-x 2 lourenco lourenco  4096 nov 17 15:37 conda\n",
      "drwxr-xr-x 3 lourenco lourenco  4096 jan 27 19:46 examples\n",
      "drwxr-xr-x 3 lourenco lourenco  4096 jan 31 14:17 pymodrev\n",
      "-rw-r--r-- 1 lourenco lourenco 22179 jan 31 14:25 quick-modrev-tutorial.ipynb\n",
      "-rw-r--r-- 1 lourenco lourenco   318 out 12 01:45 README.md\n",
      "-rw-r--r-- 1 lourenco lourenco   326 out 16 18:25 setup.py\n"
     ]
    },
    {
     "data": {
      "text/plain": [
       "CompletedProcess(args=['ls', '-l'], returncode=0)"
      ]
     },
     "execution_count": 49,
     "metadata": {},
     "output_type": "execute_result"
    }
   ],
   "source": [
    "import subprocess\n",
    "\n",
    "subprocess.run([\"ls\", \"-l\"])"
   ]
  },
  {
   "cell_type": "markdown",
   "id": "99c5c5a0-05d1-47c0-956d-3f82e38092ee",
   "metadata": {},
   "source": [
    "# Checking consistency \n",
    "(from model_file and obs_file)"
   ]
  },
  {
   "cell_type": "code",
   "execution_count": 50,
   "id": "4b781782-275a-496f-bb77-902603d50b3d",
   "metadata": {},
   "outputs": [
    {
     "name": "stdout",
     "output_type": "stream",
     "text": [
      "['/home/lourenco/research/colomoto/pymodrev/pymodrev/../examples/ModRev/src/modrev', '-m', 'examples/model.lp', '-obs', 'example/obsSS.lp', '-cc', '-v', '2']\n",
      "Unexpected exception formatting exception. Falling back to standard exception\n"
     ]
    },
    {
     "name": "stderr",
     "output_type": "stream",
     "text": [
      "Traceback (most recent call last):\n",
      "  File \"/home/lourenco/research/colomoto/pymodrev/pymodrev/__init__.py\", line 189, in check_consistency\n",
      "  File \"/usr/lib/python3.11/json/__init__.py\", line 346, in loads\n",
      "    return _default_decoder.decode(s)\n",
      "           ^^^^^^^^^^^^^^^^^^^^^^^^^^\n",
      "  File \"/usr/lib/python3.11/json/decoder.py\", line 337, in decode\n",
      "    obj, end = self.raw_decode(s, idx=_w(s, 0).end())\n",
      "               ^^^^^^^^^^^^^^^^^^^^^^^^^^^^^^^^^^^^^^\n",
      "  File \"/usr/lib/python3.11/json/decoder.py\", line 355, in raw_decode\n",
      "    raise JSONDecodeError(\"Expecting value\", s, err.value) from None\n",
      "json.decoder.JSONDecodeError: Expecting value: line 1 column 1 (char 0)\n",
      "\n",
      "During handling of the above exception, another exception occurred:\n",
      "\n",
      "Traceback (most recent call last):\n",
      "  File \"/home/lourenco/python-env/globalenv/lib/python3.11/site-packages/IPython/core/interactiveshell.py\", line 3526, in run_code\n",
      "    exec(code_obj, self.user_global_ns, self.user_ns)\n",
      "  File \"/tmp/ipykernel_17850/3042742901.py\", line 1, in <module>\n",
      "    pymodrev.check_consistency('examples/model.lp', 'example/obsSS.lp')\n",
      "  File \"/home/lourenco/research/colomoto/pymodrev/pymodrev/__init__.py\", line 201, in check_consistency\n",
      "    else:\n",
      "ValueError: Output is not in valid JSON format\n",
      "\n",
      "During handling of the above exception, another exception occurred:\n",
      "\n",
      "Traceback (most recent call last):\n",
      "  File \"/home/lourenco/python-env/globalenv/lib/python3.11/site-packages/IPython/core/interactiveshell.py\", line 2120, in showtraceback\n",
      "    stb = self.InteractiveTB.structured_traceback(\n",
      "          ^^^^^^^^^^^^^^^^^^^^^^^^^^^^^^^^^^^^^^^^\n",
      "  File \"/home/lourenco/python-env/globalenv/lib/python3.11/site-packages/IPython/core/ultratb.py\", line 1435, in structured_traceback\n",
      "    return FormattedTB.structured_traceback(\n",
      "           ^^^^^^^^^^^^^^^^^^^^^^^^^^^^^^^^^\n",
      "  File \"/home/lourenco/python-env/globalenv/lib/python3.11/site-packages/IPython/core/ultratb.py\", line 1326, in structured_traceback\n",
      "    return VerboseTB.structured_traceback(\n",
      "           ^^^^^^^^^^^^^^^^^^^^^^^^^^^^^^^\n",
      "  File \"/home/lourenco/python-env/globalenv/lib/python3.11/site-packages/IPython/core/ultratb.py\", line 1192, in structured_traceback\n",
      "    formatted_exceptions += self.format_exception_as_a_whole(etype, evalue, etb, lines_of_context,\n",
      "                            ^^^^^^^^^^^^^^^^^^^^^^^^^^^^^^^^^^^^^^^^^^^^^^^^^^^^^^^^^^^^^^^^^^^^^^\n",
      "  File \"/home/lourenco/python-env/globalenv/lib/python3.11/site-packages/IPython/core/ultratb.py\", line 1088, in format_exception_as_a_whole\n",
      "    frames.append(self.format_record(record))\n",
      "                  ^^^^^^^^^^^^^^^^^^^^^^^^^^\n",
      "  File \"/home/lourenco/python-env/globalenv/lib/python3.11/site-packages/IPython/core/ultratb.py\", line 970, in format_record\n",
      "    frame_info.lines, Colors, self.has_colors, lvals\n",
      "    ^^^^^^^^^^^^^^^^\n",
      "  File \"/home/lourenco/python-env/globalenv/lib/python3.11/site-packages/IPython/core/ultratb.py\", line 792, in lines\n",
      "    return self._sd.lines\n",
      "           ^^^^^^^^^^^^^^\n",
      "  File \"/home/lourenco/python-env/globalenv/lib/python3.11/site-packages/stack_data/utils.py\", line 145, in cached_property_wrapper\n",
      "    value = obj.__dict__[self.func.__name__] = self.func(obj)\n",
      "                                               ^^^^^^^^^^^^^^\n",
      "  File \"/home/lourenco/python-env/globalenv/lib/python3.11/site-packages/stack_data/core.py\", line 734, in lines\n",
      "    pieces = self.included_pieces\n",
      "             ^^^^^^^^^^^^^^^^^^^^\n",
      "  File \"/home/lourenco/python-env/globalenv/lib/python3.11/site-packages/stack_data/utils.py\", line 145, in cached_property_wrapper\n",
      "    value = obj.__dict__[self.func.__name__] = self.func(obj)\n",
      "                                               ^^^^^^^^^^^^^^\n",
      "  File \"/home/lourenco/python-env/globalenv/lib/python3.11/site-packages/stack_data/core.py\", line 681, in included_pieces\n",
      "    pos = scope_pieces.index(self.executing_piece)\n",
      "                             ^^^^^^^^^^^^^^^^^^^^\n",
      "  File \"/home/lourenco/python-env/globalenv/lib/python3.11/site-packages/stack_data/utils.py\", line 145, in cached_property_wrapper\n",
      "    value = obj.__dict__[self.func.__name__] = self.func(obj)\n",
      "                                               ^^^^^^^^^^^^^^\n",
      "  File \"/home/lourenco/python-env/globalenv/lib/python3.11/site-packages/stack_data/core.py\", line 660, in executing_piece\n",
      "    return only(\n",
      "           ^^^^^\n",
      "  File \"/home/lourenco/python-env/globalenv/lib/python3.11/site-packages/executing/executing.py\", line 116, in only\n",
      "    raise NotOneValueFound('Expected one value, found 0')\n",
      "executing.executing.NotOneValueFound: Expected one value, found 0\n"
     ]
    }
   ],
   "source": [
    "pymodrev.check_consistency('examples/model.lp', 'example/obsSS.lp')"
   ]
  },
  {
   "cell_type": "markdown",
   "id": "2ee2545f-f017-4071-9ba1-e02888d9be67",
   "metadata": {},
   "source": [
    "# Verifying possible inconsistency repairs"
   ]
  },
  {
   "cell_type": "code",
   "execution_count": 36,
   "id": "772b6d2a-eb8e-4adc-8e0b-9e79aae284f6",
   "metadata": {},
   "outputs": [
    {
     "name": "stdout",
     "output_type": "stream",
     "text": [
      "Unexpected exception formatting exception. Falling back to standard exception\n"
     ]
    },
    {
     "name": "stderr",
     "output_type": "stream",
     "text": [
      "Traceback (most recent call last):\n",
      "  File \"/home/lourenco/python-env/globalenv/lib/python3.11/site-packages/IPython/core/interactiveshell.py\", line 3526, in run_code\n",
      "    exec(code_obj, self.user_global_ns, self.user_ns)\n",
      "  File \"/tmp/ipykernel_760731/4237578430.py\", line 1, in <module>\n",
      "    pymodrev.check_possible_repair('pymodrev/ModRev/examples/model.lp', 'pymodrev/ModRev/examples/obsSS.lp')\n",
      "  File \"/home/lourenco/research/colomoto/pymodrev/pymodrev/__init__.py\", line 200, in check_possible_repair\n",
      "  File \"/home/lourenco/research/colomoto/pymodrev/pymodrev/__init__.py\", line 176, in run_modrev\n",
      "    command.extend([\"-v\", str(verbose)])\n",
      "             ^^^^^^^^^^^^^^^^^^^^^^^^^^^^\n",
      "  File \"/usr/lib/python3.11/subprocess.py\", line 548, in run\n",
      "    with Popen(*popenargs, **kwargs) as process:\n",
      "         ^^^^^^^^^^^^^^^^^^^^^^^^^^^\n",
      "  File \"/usr/lib/python3.11/subprocess.py\", line 1026, in __init__\n",
      "    self._execute_child(args, executable, preexec_fn, close_fds,\n",
      "  File \"/usr/lib/python3.11/subprocess.py\", line 1950, in _execute_child\n",
      "    raise child_exception_type(errno_num, err_msg, err_filename)\n",
      "FileNotFoundError: [Errno 2] No such file or directory: './modrev'\n",
      "\n",
      "During handling of the above exception, another exception occurred:\n",
      "\n",
      "Traceback (most recent call last):\n",
      "  File \"/home/lourenco/python-env/globalenv/lib/python3.11/site-packages/IPython/core/interactiveshell.py\", line 2120, in showtraceback\n",
      "    stb = self.InteractiveTB.structured_traceback(\n",
      "          ^^^^^^^^^^^^^^^^^^^^^^^^^^^^^^^^^^^^^^^^\n",
      "  File \"/home/lourenco/python-env/globalenv/lib/python3.11/site-packages/IPython/core/ultratb.py\", line 1435, in structured_traceback\n",
      "    return FormattedTB.structured_traceback(\n",
      "           ^^^^^^^^^^^^^^^^^^^^^^^^^^^^^^^^^\n",
      "  File \"/home/lourenco/python-env/globalenv/lib/python3.11/site-packages/IPython/core/ultratb.py\", line 1326, in structured_traceback\n",
      "    return VerboseTB.structured_traceback(\n",
      "           ^^^^^^^^^^^^^^^^^^^^^^^^^^^^^^^\n",
      "  File \"/home/lourenco/python-env/globalenv/lib/python3.11/site-packages/IPython/core/ultratb.py\", line 1173, in structured_traceback\n",
      "    formatted_exception = self.format_exception_as_a_whole(etype, evalue, etb, number_of_lines_of_context,\n",
      "                          ^^^^^^^^^^^^^^^^^^^^^^^^^^^^^^^^^^^^^^^^^^^^^^^^^^^^^^^^^^^^^^^^^^^^^^^^^^^^^^^^\n",
      "  File \"/home/lourenco/python-env/globalenv/lib/python3.11/site-packages/IPython/core/ultratb.py\", line 1088, in format_exception_as_a_whole\n",
      "    frames.append(self.format_record(record))\n",
      "                  ^^^^^^^^^^^^^^^^^^^^^^^^^^\n",
      "  File \"/home/lourenco/python-env/globalenv/lib/python3.11/site-packages/IPython/core/ultratb.py\", line 970, in format_record\n",
      "    frame_info.lines, Colors, self.has_colors, lvals\n",
      "    ^^^^^^^^^^^^^^^^\n",
      "  File \"/home/lourenco/python-env/globalenv/lib/python3.11/site-packages/IPython/core/ultratb.py\", line 792, in lines\n",
      "    return self._sd.lines\n",
      "           ^^^^^^^^^^^^^^\n",
      "  File \"/home/lourenco/python-env/globalenv/lib/python3.11/site-packages/stack_data/utils.py\", line 145, in cached_property_wrapper\n",
      "    value = obj.__dict__[self.func.__name__] = self.func(obj)\n",
      "                                               ^^^^^^^^^^^^^^\n",
      "  File \"/home/lourenco/python-env/globalenv/lib/python3.11/site-packages/stack_data/core.py\", line 734, in lines\n",
      "    pieces = self.included_pieces\n",
      "             ^^^^^^^^^^^^^^^^^^^^\n",
      "  File \"/home/lourenco/python-env/globalenv/lib/python3.11/site-packages/stack_data/utils.py\", line 145, in cached_property_wrapper\n",
      "    value = obj.__dict__[self.func.__name__] = self.func(obj)\n",
      "                                               ^^^^^^^^^^^^^^\n",
      "  File \"/home/lourenco/python-env/globalenv/lib/python3.11/site-packages/stack_data/core.py\", line 681, in included_pieces\n",
      "    pos = scope_pieces.index(self.executing_piece)\n",
      "                             ^^^^^^^^^^^^^^^^^^^^\n",
      "  File \"/home/lourenco/python-env/globalenv/lib/python3.11/site-packages/stack_data/utils.py\", line 145, in cached_property_wrapper\n",
      "    value = obj.__dict__[self.func.__name__] = self.func(obj)\n",
      "                                               ^^^^^^^^^^^^^^\n",
      "  File \"/home/lourenco/python-env/globalenv/lib/python3.11/site-packages/stack_data/core.py\", line 660, in executing_piece\n",
      "    return only(\n",
      "           ^^^^^\n",
      "  File \"/home/lourenco/python-env/globalenv/lib/python3.11/site-packages/executing/executing.py\", line 116, in only\n",
      "    raise NotOneValueFound('Expected one value, found 0')\n",
      "executing.executing.NotOneValueFound: Expected one value, found 0\n"
     ]
    }
   ],
   "source": [
    "pymodrev.check_possible_repair('pymodrev/ModRev/examples/model.lp', 'pymodrev/ModRev/examples/obsSS.lp')"
   ]
  },
  {
   "cell_type": "markdown",
   "id": "149ccd52-abe8-4b75-87b8-c41ff1af8a27",
   "metadata": {},
   "source": [
    "## Adding nodes, edges, and functions"
   ]
  },
  {
   "cell_type": "code",
   "execution_count": 45,
   "id": "d3dc069b-b750-4534-9eaa-452aa0f86c8a",
   "metadata": {},
   "outputs": [],
   "source": [
    "model.add_node('v1')\n",
    "model.add_node('v2')"
   ]
  },
  {
   "cell_type": "code",
   "execution_count": 46,
   "id": "513fdfec-7400-45da-91e2-a2bb09f81e92",
   "metadata": {},
   "outputs": [],
   "source": [
    "model.add_edge('v1', 'v2', 1)"
   ]
  }
 ],
 "metadata": {
  "kernelspec": {
   "display_name": "globalenv",
   "language": "python",
   "name": "python3"
  },
  "language_info": {
   "codemirror_mode": {
    "name": "ipython",
    "version": 3
   },
   "file_extension": ".py",
   "mimetype": "text/x-python",
   "name": "python",
   "nbconvert_exporter": "python",
   "pygments_lexer": "ipython3",
   "version": "3.11.6"
  }
 },
 "nbformat": 4,
 "nbformat_minor": 5
}
