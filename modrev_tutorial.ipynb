{
 "cells": [
  {
   "cell_type": "markdown",
   "metadata": {},
   "source": [
    "# ModRev tutorial\n",
    "\n",
    "This notebook illustrates the main features of the python API of the `ModRev` toolkit. It will show how to load a model and perform various operations on it.\n",
    "\n",
    "The code from this tutorial can be executed on the standard python interpreter, the IPython shell or the Jupyter notebook web interface."
   ]
  },
  {
   "cell_type": "code",
   "metadata": {},
   "source": [
    "import biolqm\n",
    "import pymodrev"
   ],
   "outputs": [],
   "execution_count": null
  },
  {
   "cell_type": "code",
   "metadata": {},
   "source": [
    "lqm = biolqm.load(\"/opt/ModRev/examples/model.lp\")"
   ],
   "outputs": [],
   "execution_count": null
  },
  {
   "metadata": {},
   "cell_type": "markdown",
   "source": [
    "Note:\n",
    "Example from CSMB2020 paper is ->\n",
    "modrev -m /opt/ModRev/examples/model.lp -obs /opt/ModRev/examples/obsTS01.lp -up s -v 0"
   ]
  },
  {
   "metadata": {},
   "cell_type": "markdown",
   "source": "ModRev models can be created from lqm models"
  },
  {
   "cell_type": "code",
   "metadata": {},
   "source": [
    "model = pymodrev.ModRev(lqm)"
   ],
   "outputs": [],
   "execution_count": null
  },
  {
   "metadata": {},
   "cell_type": "markdown",
   "source": "We can print the model to check how it is represented in the ModRev file format"
  },
  {
   "metadata": {},
   "cell_type": "code",
   "source": "model.print() ",
   "outputs": [],
   "execution_count": null
  },
  {
   "metadata": {},
   "cell_type": "markdown",
   "source": "First of all, we can check the consistency of the model"
  },
  {
   "metadata": {},
   "cell_type": "code",
   "source": "model.is_consistent()",
   "outputs": [],
   "execution_count": null
  },
  {
   "metadata": {},
   "cell_type": "markdown",
   "source": [
    "**Observations**\n",
    "\n",
    "Observations can be added to the model, and will always be considered when checking consistency, generating repairs, etc..."
   ]
  },
  {
   "metadata": {},
   "cell_type": "markdown",
   "source": [
    "To add observations we can pass a list of values or a dictionary with the node names as keys.\n",
    "\n",
    "For example:"
   ]
  },
  {
   "metadata": {},
   "cell_type": "markdown",
   "source": "Note: by default, if node is not present in observation, it is considered as missing value"
  },
  {
   "metadata": {},
   "cell_type": "code",
   "source": "model.add_obs([0, \"*\", 1], \"obs_1\")",
   "outputs": [],
   "execution_count": null
  },
  {
   "metadata": {},
   "cell_type": "code",
   "source": "model.add_obs({\"v1\": 0, \"v2\": \"*\", \"v3\": 1})",
   "outputs": [],
   "execution_count": null
  },
  {
   "metadata": {},
   "cell_type": "markdown",
   "source": "We can also set the observation dictionary by hand all at once, substituting the previous observations"
  },
  {
   "metadata": {},
   "cell_type": "code",
   "source": [
    "model.set_obs({\"obs_1\": [0, 1, \"*\"],\n",
    "               \"obs_2\": {\"v1\": 0, \"v2\": 1, \"v3\": \"*\"}\n",
    "              })"
   ],
   "outputs": [],
   "execution_count": null
  },
  {
   "metadata": {},
   "cell_type": "markdown",
   "source": "We can see the current observations:"
  },
  {
   "metadata": {},
   "cell_type": "code",
   "source": "model.get_observations()",
   "outputs": [],
   "execution_count": null
  },
  {
   "metadata": {},
   "cell_type": "markdown",
   "source": "And finally, we can remove them:"
  },
  {
   "metadata": {},
   "cell_type": "code",
   "source": "model.remove_obs(\"obs_1\")",
   "outputs": [],
   "execution_count": null
  },
  {
   "metadata": {},
   "cell_type": "markdown",
   "source": "The following function can be used to check the possible repair actions, based on the model and loaded observations."
  },
  {
   "cell_type": "code",
   "metadata": {},
   "source": "model.stats()",
   "outputs": [],
   "execution_count": null
  },
  {
   "metadata": {},
   "cell_type": "markdown",
   "source": [
    "Additionally, we can also check the stats with observations from a file, instead of our observation dictionary.\n",
    "\n",
    "To do this, we also need to specify if these are steady state or time-series (synchronous) observations."
   ]
  },
  {
   "metadata": {},
   "cell_type": "code",
   "outputs": [],
   "execution_count": null,
   "source": "model.stats(observation_file=\"/opt/ModRev/examples/obsSS.lp\", state_scheme=\"steady\")"
  },
  {
   "metadata": {},
   "cell_type": "code",
   "outputs": [],
   "execution_count": null,
   "source": "model.stats(observation_file=\"/opt/ModRev/examples/obsTS01.lp\", state_scheme=\"synchronous\")"
  },
  {
   "metadata": {},
   "cell_type": "markdown",
   "source": [
    "From the list of possible repairs for each inconsistent node, we can specify in a dictionary which ones we want to pick.\n",
    "For example, for this given inconsistent network:\n",
    "\n",
    "Repair options for node 'v1':\n",
    "- v1@F1, (v2) || (v3) -----> repair 0\n",
    "\n",
    "Repair options for node 'v2':\n",
    "- E,v1,v2:F,(v1 && v3) -------> repair 0\n",
    "- E,v3,v2:F,(v1 && v3) -------> repair 1\n",
    "\n",
    "Repair options for node 'v3':\n",
    "- v3@F1, (v1) || (v2) -----> repair 0\n",
    "- v3@F2, (v1) || (v2) -----> repair 1\n",
    "\n",
    "We could specify the following repairs:\n",
    "```python\n",
    "model.generate_repairs({'v1': 0, 'v2': 1, 'v3': 0})\n",
    "```\n",
    "\n",
    "Additionally, if we want to pass a list of fixed nodes, we can do it as follows:\n",
    "model.generate_repairs({'v1': 0, 'v2': 1, 'v3': 0}, fixed_nodes=['v1', 'v3'])\n",
    "\n",
    "And modrev will try to repair the network while keeping the nodes 'v1' and 'v3' fixed.\n"
   ]
  },
  {
   "cell_type": "code",
   "metadata": {},
   "source": "new_model = model.generate_repairs({'v1': 0, 'v2': 0, 'v3': 0}, fixed_nodes=[])",
   "outputs": [],
   "execution_count": null
  },
  {
   "metadata": {},
   "cell_type": "markdown",
   "source": "And we can check our new model"
  },
  {
   "cell_type": "code",
   "metadata": {},
   "source": "new_model.print()",
   "outputs": [],
   "execution_count": null
  },
  {
   "cell_type": "markdown",
   "metadata": {},
   "source": [
    "### **Example of a remote file**\n",
    "\n",
    "The following code has intentional errors (incorrect arguments, usage, etc.), for demonstration purposes."
   ]
  },
  {
   "cell_type": "code",
   "metadata": {},
   "source": [
    "lqm = biolqm.load(\"http://ginsim.org/sites/default/files/boolean_cell_cycle.zginml\")"
   ],
   "outputs": [],
   "execution_count": null
  },
  {
   "cell_type": "code",
   "metadata": {},
   "source": [
    "model = pymodrev.ModRev(lqm)"
   ],
   "outputs": [],
   "execution_count": null
  },
  {
   "metadata": {},
   "cell_type": "code",
   "outputs": [],
   "execution_count": null,
   "source": "model.print()"
  },
  {
   "cell_type": "code",
   "metadata": {},
   "source": [
    "model.stats()"
   ],
   "outputs": [],
   "execution_count": null
  },
  {
   "cell_type": "code",
   "metadata": {},
   "source": [
    "model.add_obs([0, 1, \"*\", 1, 0], \"obs_1\")"
   ],
   "outputs": [],
   "execution_count": null
  },
  {
   "cell_type": "code",
   "metadata": {},
   "source": [
    "model.add_obs({\"CycA\": 0, \"node2\": 1, \"CycD\": \"*\", \"CycB\": 1, \"CycE\": 0})"
   ],
   "outputs": [],
   "execution_count": null
  },
  {
   "cell_type": "code",
   "metadata": {},
   "source": [
    "model.set_obs({\"obs_1\": [0, 1, \"*\", 1, 0],\n",
    "               \"obs_2\": {\"CycA\": 0, \"node2\": 1, \"CycB\": \"*\", \"CycE\": 1, \"p27\": 0}\n",
    "              })"
   ],
   "outputs": [],
   "execution_count": null
  },
  {
   "cell_type": "code",
   "metadata": {},
   "source": [
    "model.repairs['p27'] = [\"p27@F1, (CycA) || (CycB) || (CycE)\"]"
   ],
   "outputs": [],
   "execution_count": null
  },
  {
   "cell_type": "code",
   "metadata": {},
   "source": [
    "new_model = model.generate_repairs({'p27': 0}, fixed_nodes=['CycA', 'CycB', 'p27'])"
   ],
   "outputs": [],
   "execution_count": null
  },
  {
   "cell_type": "code",
   "metadata": {},
   "source": "new_model.print()",
   "outputs": [],
   "execution_count": null
  }
 ],
 "metadata": {
  "kernelspec": {
   "display_name": "Python 3 (ipykernel)",
   "language": "python",
   "name": "python3"
  },
  "language_info": {
   "codemirror_mode": {
    "name": "ipython",
    "version": 3
   },
   "file_extension": ".py",
   "mimetype": "text/x-python",
   "name": "python",
   "nbconvert_exporter": "python",
   "pygments_lexer": "ipython3",
   "version": "3.11.8"
  }
 },
 "nbformat": 4,
 "nbformat_minor": 4
}
